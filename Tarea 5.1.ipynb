{
 "cells": [
  {
   "cell_type": "markdown",
   "id": "3dd86fd5",
   "metadata": {},
   "source": [
    "## Urna con 23 bolas"
   ]
  },
  {
   "cell_type": "code",
   "execution_count": 7,
   "id": "fee9a17d",
   "metadata": {},
   "outputs": [],
   "source": [
    "def prob(evento, espacio):\n",
    "    ''' \n",
    "    Regresa la probabilidad de que ocurra 'evento'.   \n",
    "    '''\n",
    "    return (len(evento & espacio)/len(espacio))"
   ]
  },
  {
   "cell_type": "code",
   "execution_count": 2,
   "id": "88ddfd63",
   "metadata": {},
   "outputs": [],
   "source": [
    "def unir(color, numeros):\n",
    "    '''\n",
    "    Regresa un conjunto de bolas\n",
    "    una vez se ingresa los colores y el número de objetos deseado\n",
    "    '''\n",
    "    return {color + numero for numero in numeros}\n",
    "\n",
    "urna = unir('B', '12345678') | unir('A', '123456') | unir('R', '123456789')         ## creamos el conjunto \"urna\" con 8 bolas\n",
    "                                                                                     ## blancas, 6 bolas azules y 9 bolas rojas."
   ]
  },
  {
   "cell_type": "code",
   "execution_count": 18,
   "id": "9e591d1c",
   "metadata": {},
   "outputs": [],
   "source": [
    "import itertools\n",
    "\n",
    "espacio_1 = set(itertools.combinations(urna, 3))   ## creamos el espacio en el que buscaremos ciertos eventos.\n",
    "                                                ### en nuestro caso, tendremos un espacio en el que se sacan 3 bolas al azar\n",
    "                                                ### sin reemplazo."
   ]
  },
  {
   "cell_type": "code",
   "execution_count": 19,
   "id": "a2b4de85",
   "metadata": {},
   "outputs": [],
   "source": [
    "def ningun_rojo(evento):\n",
    "    '''\n",
    "    Nos regresa una lista de combinaciones que contiene\n",
    "    todas las posiblidades de sacar 3 bolas que no sean rojas\n",
    "    '''\n",
    "    s = [i[0] for i in evento]\n",
    "    return s.count('R') == 0\n",
    "\n",
    "no_rojos = {e for e in espacio_1 if ningun_rojo(e)}          ## Lista que contiene todas las combinaciones posibles"
   ]
  },
  {
   "cell_type": "code",
   "execution_count": 20,
   "id": "d2146863",
   "metadata": {},
   "outputs": [
    {
     "data": {
      "text/plain": [
       "0.20553359683794467"
      ]
     },
     "execution_count": 20,
     "metadata": {},
     "output_type": "execute_result"
    }
   ],
   "source": [
    "prob(no_rojos, espacio_1)       #Probabilidad de que al sacar 6 bolas, las 3 primeras bolas no sean rojas."
   ]
  },
  {
   "cell_type": "code",
   "execution_count": 21,
   "id": "027da73c",
   "metadata": {},
   "outputs": [],
   "source": [
    "espacio_2 = set(itertools.combinations(urna, 6))   ## Espacio en donde se saca 6 bolas"
   ]
  },
  {
   "cell_type": "code",
   "execution_count": 22,
   "id": "9f082d15",
   "metadata": {},
   "outputs": [],
   "source": [
    "def dos_de_cada_color(evento):\n",
    "    '''\n",
    "    Nos regresa una lista de combinaciones que contiene\n",
    "    todas las posibilidades de, que al sacar 6 bolas, tengamos\n",
    "    2 de cada color\n",
    "    '''\n",
    "    s = [i[0] for i in evento]\n",
    "    return (s.count('R') == 2) & (s.count('B') == 2) & (s.count('A') == 2)\n",
    "\n",
    "dos_dos_dos = {e for e in espacio_2 if dos_de_cada_color(e)}  ## Lista que contiene todas las combinaciones posibles"
   ]
  },
  {
   "cell_type": "code",
   "execution_count": 23,
   "id": "a3d02e9a",
   "metadata": {},
   "outputs": [
    {
     "data": {
      "text/plain": [
       "0.1497815685458706"
      ]
     },
     "execution_count": 23,
     "metadata": {},
     "output_type": "execute_result"
    }
   ],
   "source": [
    "prob(dos_dos_dos, espacio_2)   #Probabilidad de que al sacar 6 bolas, se obtengan dos de cada color."
   ]
  },
  {
   "cell_type": "markdown",
   "id": "30cf3c77",
   "metadata": {},
   "source": [
    "### El último resultado es una probabilidad diferenciando las bolas entre si mismas, o sea, no tenemos solamente bolas blancas, si no que tenemos una bola blanca B1, la segunda bola blanca B2, y así sucesivamente con todas las bolas. Si estuvieramos en el caso en el que no se diferencias las bolas de colores entre sí (aparte de su color), entonces la probabilidad sería más pequeña ya que el número de combinaciones posibles sería menor."
   ]
  },
  {
   "cell_type": "markdown",
   "id": "6019bfa8",
   "metadata": {},
   "source": [
    "# Calificación: 6.0"
   ]
  },
  {
   "cell_type": "markdown",
   "id": "5ef6022e",
   "metadata": {},
   "source": [
    "En la primera pregunta el espacio también consiste en sacar 6 bolas, tú sacaste 3. No es igual a lo que tú hiciste porque no hay reemplazo de las bolas."
   ]
  }
 ],
 "metadata": {
  "kernelspec": {
   "display_name": "Python 3",
   "language": "python",
   "name": "python3"
  },
  "language_info": {
   "codemirror_mode": {
    "name": "ipython",
    "version": 3
   },
   "file_extension": ".py",
   "mimetype": "text/x-python",
   "name": "python",
   "nbconvert_exporter": "python",
   "pygments_lexer": "ipython3",
   "version": "3.8.5"
  }
 },
 "nbformat": 4,
 "nbformat_minor": 5
}
