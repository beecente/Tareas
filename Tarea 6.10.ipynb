{
 "cells": [
  {
   "cell_type": "markdown",
   "id": "ab0eff6f",
   "metadata": {},
   "source": [
    "# Metodo de Bisección para la raiz cúbica de 31 "
   ]
  },
  {
   "cell_type": "code",
   "execution_count": 16,
   "id": "de546a96",
   "metadata": {},
   "outputs": [],
   "source": [
    "import numpy as np\n",
    "import matplotlib.pyplot as plt"
   ]
  },
  {
   "cell_type": "code",
   "execution_count": 17,
   "id": "10bb5891",
   "metadata": {},
   "outputs": [],
   "source": [
    "def biseccion(f, a, b, epsilon, N=1000000):\n",
    "    '''Metodo matemático de bisección que, dada una función, un intervalo y una tolerancia\n",
    "    regresará el cero de la función, en nuestro caso, la solución que buscamos'''\n",
    "    for i in range(N):\n",
    "        p = a + (b - a)/2\n",
    "        print(p)\n",
    "        if abs(f(p)) < epsilon: # Corregido por el prof: Faltó un error absoluto!!!\n",
    "            print(\"Cero en\", p, \"encontrado después de\", i, \"iteraciones.\")\n",
    "            return p\n",
    "        elif f(p)*f(a) > 0:\n",
    "            a = p\n",
    "        else:\n",
    "            b = p\n",
    "    print(\"No se encontró el cero después de\", N, \"iteraciones.\")"
   ]
  },
  {
   "cell_type": "code",
   "execution_count": 18,
   "id": "b6e4214e",
   "metadata": {},
   "outputs": [],
   "source": [
    "def func(x):\n",
    "    '''ecuación para encontrar el valor de la raiz cúbica de 31'''\n",
    "    return (x)**3 - 31                    ##el metodo de biseccion encontrara el 0 de esta funcion, osea, la solución a la raiz"
   ]
  },
  {
   "cell_type": "code",
   "execution_count": 19,
   "id": "621d1f44",
   "metadata": {},
   "outputs": [
    {
     "data": {
      "text/plain": [
       "[<matplotlib.lines.Line2D at 0x12079f6d0>]"
      ]
     },
     "execution_count": 19,
     "metadata": {},
     "output_type": "execute_result"
    },
    {
     "data": {
      "image/png": "[encoded data removed]",
      "text/plain": [
       "<Figure size 432x288 with 1 Axes>"
      ]
     },
     "metadata": {
      "needs_background": "light"
     },
     "output_type": "display_data"
    }
   ],
   "source": [
    "x = np.linspace(2.5, 3.5, 100)\n",
    "plt.plot(x, func(x))             ###en el grafico podemos apreciar donde se encuentra aproximadamente el 0, asi tomamos nuestros\n",
    "                                 ### a y b"
   ]
  },
  {
   "cell_type": "code",
   "execution_count": 20,
   "id": "ed9c458c",
   "metadata": {
    "scrolled": true
   },
   "outputs": [
    {
     "name": "stdout",
     "output_type": "stream",
     "text": [
      "3.2\n",
      "3.1\n",
      "3.1500000000000004\n",
      "3.125\n",
      "3.1375\n",
      "3.1437500000000003\n",
      "3.140625\n",
      "3.1421875000000004\n",
      "3.14140625\n",
      "3.141015625\n",
      "3.1412109375000004\n",
      "3.1413085937500003\n",
      "3.141357421875\n",
      "3.1413818359375\n",
      "Cero en 3.1413818359375 encontrado después de 13 iteraciones.\n"
     ]
    },
    {
     "data": {
      "text/plain": [
       "3.1413818359375"
      ]
     },
     "execution_count": 20,
     "metadata": {},
     "output_type": "execute_result"
    }
   ],
   "source": [
    "biseccion(func, 3.0, 3.4, 1e-4)    ##aproximacion numérica para 31**1/3"
   ]
  },
  {
   "cell_type": "code",
   "execution_count": 21,
   "id": "1842a225",
   "metadata": {},
   "outputs": [],
   "source": [
    "from time import time_ns"
   ]
  },
  {
   "cell_type": "code",
   "execution_count": 22,
   "id": "2234c4e1",
   "metadata": {},
   "outputs": [],
   "source": [
    "def medir_tiempo(func, *args):\n",
    "    '''\n",
    "    Código que nos arrojará el tiempo de cálculo de la ejecución que escojamos\n",
    "    '''\n",
    "    t1 = time_ns()\n",
    "    func(*args)\n",
    "    tf = time_ns() - t1\n",
    "    return tf"
   ]
  },
  {
   "cell_type": "code",
   "execution_count": 23,
   "id": "ccbadf95",
   "metadata": {},
   "outputs": [
    {
     "name": "stdout",
     "output_type": "stream",
     "text": [
      "3.2\n",
      "3.1\n",
      "3.1500000000000004\n",
      "3.125\n",
      "3.1375\n",
      "3.1437500000000003\n",
      "3.140625\n",
      "3.1421875000000004\n",
      "3.14140625\n",
      "3.141015625\n",
      "3.1412109375000004\n",
      "3.1413085937500003\n",
      "3.141357421875\n",
      "3.1413818359375\n",
      "3.14136962890625\n",
      "3.141375732421875\n",
      "3.141378784179688\n",
      "3.1413803100585938\n",
      "3.1413810729980467\n",
      "3.1413806915283202\n",
      "3.141380500793457\n",
      "3.1413805961608885\n",
      "3.141380643844604\n",
      "3.1413806676864624\n",
      "3.1413806557655333\n",
      "3.1413806498050687\n",
      "3.141380652785301\n",
      "3.1413806512951847\n",
      "3.141380652040243\n",
      "3.141380652412772\n",
      "3.1413806522265073\n",
      "3.14138065231964\n",
      "3.1413806523662062\n",
      "3.141380652389489\n",
      "Cero en 3.141380652389489 encontrado después de 33 iteraciones.\n"
     ]
    },
    {
     "data": {
      "text/plain": [
       "3629000"
      ]
     },
     "execution_count": 23,
     "metadata": {},
     "output_type": "execute_result"
    }
   ],
   "source": [
    "medir_tiempo(biseccion, func, 3.0, 3.4, 1e-10)"
   ]
  },
  {
   "cell_type": "code",
   "execution_count": 24,
   "id": "8f76ef21",
   "metadata": {},
   "outputs": [
    {
     "data": {
      "text/plain": [
       "-1.208999999999996"
      ]
     },
     "execution_count": 24,
     "metadata": {},
     "output_type": "execute_result"
    }
   ],
   "source": [
    "# Agregado por el profesor!!!\n",
    "func(3.1)"
   ]
  },
  {
   "cell_type": "markdown",
   "id": "3d8f3190",
   "metadata": {},
   "source": [
    "# Calificación: 5.0"
   ]
  },
  {
   "cell_type": "markdown",
   "id": "4e2e6b88",
   "metadata": {},
   "source": [
    "Hubo un error en el algoritmo. Al olvidar un valor absoluto, no se encontraba un cero de la función con la precisión requerida. Se podía verificar fácilmente que no era un cero evaluando la función en el punto obtenido. (-1 punto)\n",
    "\n",
    "Se pedía graficar el tiempo tardado para varios valores de la precisión. No se hizo. (-1 punto)"
   ]
  }
 ],
 "metadata": {
  "kernelspec": {
   "display_name": "Python 3",
   "language": "python",
   "name": "python3"
  },
  "language_info": {
   "codemirror_mode": {
    "name": "ipython",
    "version": 3
   },
   "file_extension": ".py",
   "mimetype": "text/x-python",
   "name": "python",
   "nbconvert_exporter": "python",
   "pygments_lexer": "ipython3",
   "version": "3.8.5"
  }
 },
 "nbformat": 4,
 "nbformat_minor": 5
}
