{
 "cells": [
  {
   "cell_type": "code",
   "execution_count": 26,
   "id": "60f520e7",
   "metadata": {},
   "outputs": [],
   "source": [
    "import numpy as np\n",
    "import matplotlib.pyplot as plt"
   ]
  },
  {
   "cell_type": "code",
   "execution_count": 27,
   "id": "77686793",
   "metadata": {},
   "outputs": [],
   "source": [
    "def euler(f, a, b, yo, N):\n",
    "    \"\"\"\n",
    "    Nos regresa la solución a un problema de valor inicial de ecuaciones diferenciales de primer grado\n",
    "    mediante el metodo de euler, dentro de cierto rango [a,b], y f(0)=yo. \n",
    "    \"\"\"\n",
    "    h = (b-a)/N\n",
    "    t = a\n",
    "    w = yo\n",
    "    ts_e = np.zeros(N+1)\n",
    "    sol_e = np.zeros(N+1)\n",
    "    \n",
    "    for i in range(N):\n",
    "        ts_e[i] = t\n",
    "        sol_e[i] = w\n",
    "        w = w + h*f(t, w)\n",
    "        t = t + h\n",
    "        \n",
    "    ts_e[N] = t\n",
    "    sol_e[N] = w\n",
    "    \n",
    "    return ts_e, sol_e"
   ]
  },
  {
   "cell_type": "code",
   "execution_count": 28,
   "id": "445e739e",
   "metadata": {},
   "outputs": [],
   "source": [
    "def funcion(t, y):\n",
    "    \"\"\"ecuacion diferencial a resolver\"\"\"\n",
    "    return np.cos(t)/np.sin(y)"
   ]
  },
  {
   "cell_type": "code",
   "execution_count": 29,
   "id": "762cda2f",
   "metadata": {},
   "outputs": [
    {
     "data": {
      "text/plain": [
       "(array([0. , 0.1, 0.2, 0.3, 0.4, 0.5, 0.6, 0.7, 0.8, 0.9, 1. ]),\n",
       " array([1.        , 1.11883951, 1.2294454 , 1.33345295, 1.43174203,\n",
       "        1.52474585, 1.61259724, 1.69520296, 1.77228289, 1.84339209,\n",
       "        1.90793637]))"
      ]
     },
     "execution_count": 29,
     "metadata": {},
     "output_type": "execute_result"
    }
   ],
   "source": [
    "euler(funcion, 0, 1, 1, 10)"
   ]
  },
  {
   "cell_type": "code",
   "execution_count": 30,
   "id": "f5be4ae6",
   "metadata": {},
   "outputs": [],
   "source": [
    "def taylor2(f, df, a, b, yo, N):\n",
    "    \"\"\"Nos regresa la solucion de la ecuacion diferencial usando el metodo de taylor con la serie de segundo grado\"\"\"\n",
    "    h = (b-a)/N\n",
    "    t = a\n",
    "    w = yo\n",
    "    ts_t2 = np.zeros(N+1)\n",
    "    sol_t2 = np.zeros(N+1)\n",
    "    \n",
    "    for i in range(N):\n",
    "        ts_t2[i] = t\n",
    "        sol_t2[i] = w\n",
    "        w = w + h*f(t, w) + h*h*df(t, w)/2\n",
    "        t = t + h\n",
    "        \n",
    "    ts_t2[N] = t\n",
    "    sol_t2[N] = w\n",
    "    \n",
    "    return ts_t2, sol_t2"
   ]
  },
  {
   "cell_type": "code",
   "execution_count": 31,
   "id": "4a4264ec",
   "metadata": {},
   "outputs": [],
   "source": [
    "def dfuncion(t, y):\n",
    "    \"\"\"Primera derivada de la funcion original\"\"\"\n",
    "    return ( (-1)*np.sin(y)*np.sin(t) - np.cos(y)*(funcion(t,y))*np.cos(t)  )/(  (np.sin(y))**2 )"
   ]
  },
  {
   "cell_type": "code",
   "execution_count": 32,
   "id": "6fecdbbe",
   "metadata": {},
   "outputs": [
    {
     "data": {
      "text/plain": [
       "(array([0. , 0.1, 0.2, 0.3, 0.4, 0.5, 0.6, 0.7, 0.8, 0.9, 1. ]),\n",
       " array([1.        , 1.11430543, 1.22158312, 1.32284736, 1.41864131,\n",
       "        1.50918839, 1.59447333, 1.67428673, 1.74825102, 1.81583849,\n",
       "        1.8763897 ]))"
      ]
     },
     "execution_count": 32,
     "metadata": {},
     "output_type": "execute_result"
    }
   ],
   "source": [
    "taylor2(funcion, dfuncion, 0, 1, 1, 10)"
   ]
  },
  {
   "cell_type": "code",
   "execution_count": 33,
   "id": "73e3ebe8",
   "metadata": {},
   "outputs": [],
   "source": [
    "def taylor3(f, df, d2f, a, b, yo, N):\n",
    "    \"\"\"\n",
    "    Nos regresa la solucion de la ecuacion diferencial usando el metodo de taylor con la serie de tercer grado.\n",
    "    \"\"\"\n",
    "    h = (b-a)/N\n",
    "    t = a\n",
    "    w = yo\n",
    "    ts_t3 = np.zeros(N+1)\n",
    "    sol_t3 = np.zeros(N+1)\n",
    "    \n",
    "    for i in range(N):\n",
    "        ts_t3[i] = t\n",
    "        sol_t3[i] = w\n",
    "        w = w + h*(f(t, w) + h*(df(t, w)/2 + h*(d2f(t, w)/6)))\n",
    "        t = t + h\n",
    "        \n",
    "    ts_t3[N] = t\n",
    "    sol_t3[N] = w\n",
    "    \n",
    "    return ts_t3, sol_t3"
   ]
  },
  {
   "cell_type": "code",
   "execution_count": 34,
   "id": "3cabfed1",
   "metadata": {},
   "outputs": [],
   "source": [
    "def d2funcion(y, t):\n",
    "    \"\"\"Segunda derivada de la función\"\"\"\n",
    "    return (np.cos(t)*(  (np.sin(y))**2 +  ((np.sin(y))**2)*(funcion(t,y)**2) + 2*(np.cos(y)**2)*(funcion(t,y)**2) - np.sin(y)*np.cos(y)*(dfuncion(t,y))   )  )/((np.sin(t)**3))\n"
   ]
  },
  {
   "cell_type": "code",
   "execution_count": 46,
   "id": "78379a06",
   "metadata": {},
   "outputs": [
    {
     "data": {
      "text/plain": [
       "(array([0.1 , 0.19, 0.28, 0.37, 0.46, 0.55, 0.64, 0.73, 0.82, 0.91, 1.  ]),\n",
       " array([1.        , 1.11201516, 1.20860652, 1.29858234, 1.38321279,\n",
       "        1.46286463, 1.53760528, 1.6073318 , 1.67181665, 1.73073236,\n",
       "        1.78367108]))"
      ]
     },
     "execution_count": 46,
     "metadata": {},
     "output_type": "execute_result"
    }
   ],
   "source": [
    "taylor3(funcion, dfuncion, d2funcion, 0.1, 1, 1, 10) ##  no me deja comenzarlo desde el 0 :c"
   ]
  },
  {
   "cell_type": "markdown",
   "id": "92b07e84",
   "metadata": {},
   "source": [
    "### La solución analítica tiene la forma $\\arccos(-\\sin(t) + \\cos(1))$"
   ]
  },
  {
   "cell_type": "code",
   "execution_count": 40,
   "id": "bf9ea501",
   "metadata": {},
   "outputs": [],
   "source": [
    "def solexacta(t):\n",
    "    return np.arccos(-np.sin(t) + np.cos(1))"
   ]
  },
  {
   "cell_type": "code",
   "execution_count": 44,
   "id": "3b8c270f",
   "metadata": {},
   "outputs": [
    {
     "data": {
      "text/plain": [
       "<matplotlib.legend.Legend at 0x1bf602feaf0>"
      ]
     },
     "execution_count": 44,
     "metadata": {},
     "output_type": "execute_result"
    },
    {
     "data": {
      "image/png": "[encoded data removed]",
      "text/plain": [
       "<Figure size 432x288 with 1 Axes>"
      ]
     },
     "metadata": {
      "needs_background": "light"
     },
     "output_type": "display_data"
    }
   ],
   "source": [
    "ts = np.linspace(0,1,100)\n",
    "\n",
    "plt.plot(ts, solexacta(ts), label='Exacta')\n",
    "plt.plot(*euler(funcion, 0, 1, 1, 10),label='Aproximación de Euler')\n",
    "plt.plot(*taylor2(funcion, dfuncion, 0, 1, 1, 10),label='Aproximación de Taylor 2do grado')\n",
    "plt.plot(*taylor3(funcion, dfuncion, d2funcion, 0.1, 1, 1, 10),label='Aproximación de Taylor 3er grado')\n",
    "plt.legend()"
   ]
  },
  {
   "cell_type": "code",
   "execution_count": 59,
   "id": "afbe93b2",
   "metadata": {},
   "outputs": [
    {
     "data": {
      "text/plain": [
       "<matplotlib.legend.Legend at 0x1bf6064d790>"
      ]
     },
     "execution_count": 59,
     "metadata": {},
     "output_type": "execute_result"
    },
    {
     "data": {
      "image/png": "[encoded data removed]",
      "text/plain": [
       "<Figure size 432x288 with 1 Axes>"
      ]
     },
     "metadata": {
      "needs_background": "light"
     },
     "output_type": "display_data"
    }
   ],
   "source": [
    "N = 10\n",
    "h = 1/N\n",
    "ts, sol1 = euler(funcion, 0,1,1,N)\n",
    "ts, sol2 = taylor2(funcion,dfuncion,0,1,1,N)\n",
    "plt.scatter(ts, solexacta(ts) - sol1, label='error real euler')\n",
    "plt.scatter(ts, solexacta(ts) - sol2, label='error real taylor 2do grado')\n",
    "plt.legend()"
   ]
  },
  {
   "cell_type": "markdown",
   "id": "9b9a9d38",
   "metadata": {},
   "source": [
    "#### El resultado no era esperado ya que, uno puede suponer que mientras más alto es el grado del polinomio de Taylor, más precisión tendrá la aproximación, lo que no se vió en este caso."
   ]
  },
  {
   "cell_type": "code",
   "execution_count": null,
   "id": "c4f33948",
   "metadata": {},
   "outputs": [],
   "source": []
  }
 ],
 "metadata": {
  "kernelspec": {
   "display_name": "Python 3",
   "language": "python",
   "name": "python3"
  },
  "language_info": {
   "codemirror_mode": {
    "name": "ipython",
    "version": 3
   },
   "file_extension": ".py",
   "mimetype": "text/x-python",
   "name": "python",
   "nbconvert_exporter": "python",
   "pygments_lexer": "ipython3",
   "version": "3.8.8"
  }
 },
 "nbformat": 4,
 "nbformat_minor": 5
}
