{
 "cells": [
  {
   "cell_type": "code",
   "execution_count": 67,
   "id": "f138d29b",
   "metadata": {},
   "outputs": [],
   "source": [
    "import numpy as np\n",
    "import matplotlib.pyplot as plt\n",
    "import math"
   ]
  },
  {
   "cell_type": "code",
   "execution_count": 68,
   "id": "5f6cda9e",
   "metadata": {},
   "outputs": [],
   "source": [
    "def normal_distribution(x, mean, sigma):\n",
    "    \"\"\"\n",
    "    Función gaussiana\n",
    "    \"\"\"\n",
    "    return np.exp(-1*((x-mean)**2)/(2*(sigma**2)))/(math.sqrt(2*np.pi) * sigma)"
   ]
  },
  {
   "cell_type": "code",
   "execution_count": 69,
   "id": "b38d94bb",
   "metadata": {},
   "outputs": [],
   "source": [
    "xp = np.linspace(0,2,5)"
   ]
  },
  {
   "cell_type": "code",
   "execution_count": 70,
   "id": "a5ec5b72",
   "metadata": {},
   "outputs": [],
   "source": [
    "puntosp = np.array([[xi, normal_distribution(xi,0,1)] for xi in xp]) # Matriz con los puntos de la gaussiana \n",
    "                                                                    ## en el intervalo [0,2] con 5 puntos"
   ]
  },
  {
   "cell_type": "code",
   "execution_count": 71,
   "id": "f2e0b5e0",
   "metadata": {},
   "outputs": [],
   "source": [
    "def spline_coefs(puntos):\n",
    "    \"\"\"\n",
    "    Nos regresa los coeficientes del polinomio que aproximaremos a la curva gaussiana\n",
    "    \"\"\"\n",
    "    n = len(puntos) - 1\n",
    "    \n",
    "    h = np.zeros(n)\n",
    "    for i in range(n):\n",
    "        h[i] = puntos[i + 1][0] - puntos[i][0]\n",
    "    \n",
    "    a = puntos[:,1]\n",
    "    alpha = np.zeros(n - 1)\n",
    "    for i in range(1, n):\n",
    "        alpha[i-1] = (3/h[i])*(a[i+1] - a[i]) - (3/h[i-1])*(a[i] - a[i-1])\n",
    "        \n",
    "        \n",
    "    # Se resuelve un sistema de ecuaciones:\n",
    "    l = np.ones(n + 1)\n",
    "    mu = np.zeros(n)\n",
    "    z = np.zeros(n + 1)\n",
    "    for i in range(1, n):\n",
    "        l[i] = 2*(puntos[i+1][0] - puntos[i-1][0]) - h[i-1]*mu[i-1]\n",
    "        mu[i] = h[i]/l[i]\n",
    "        z[i] = (alpha[i-1] - h[i-1]*z[i-1])/l[i]\n",
    "    b = np.zeros(n)\n",
    "    c = np.zeros(n+1)\n",
    "    d = np.zeros(n)\n",
    "    for j in range(n-1,-1,-1):\n",
    "        c[j] = z[j] - mu[j]*c[j+1]\n",
    "        b[j] = (a[j+1] - a[j])/h[j] - h[j]*(c[j+1] + 2*c[j])/3\n",
    "        d[j] = (c[j+1] - c[j])/(3*h[j])\n",
    "        \n",
    "    return a, b, c, d"
   ]
  },
  {
   "cell_type": "code",
   "execution_count": 72,
   "id": "1a8f3e0e",
   "metadata": {},
   "outputs": [],
   "source": [
    "coefs = spline_coefs(puntosp)  ###coeficientes del polinomio"
   ]
  },
  {
   "cell_type": "code",
   "execution_count": 73,
   "id": "7f84c11d",
   "metadata": {},
   "outputs": [],
   "source": [
    "def spline_eval(x, coefs, puntos):\n",
    "    \"\"\"\n",
    "    Nos regresa el polomio final\n",
    "    \"\"\"\n",
    "    if x >= puntos[-1,0]:\n",
    "        return puntos[-1,1]\n",
    "    elif x <= puntos[0,0]:\n",
    "        return puntos[0,1]\n",
    "    \n",
    "    i = find_ind(x, puntos)\n",
    "    a, b, c, d = coefs\n",
    "    return (a[i] + b[i]*(x - puntos[i][0]) + \\\n",
    "            c[i]*(x - puntos[i][0])**2 + d[i]*(x - puntos[i][0])**3)"
   ]
  },
  {
   "cell_type": "code",
   "execution_count": 74,
   "id": "74c9a8bc",
   "metadata": {},
   "outputs": [],
   "source": [
    "def find_ind(x, puntos):\n",
    "    \"\"\"\n",
    "    \n",
    "    \"\"\"\n",
    "    for i in range(len(puntos)):\n",
    "        if x < puntos[i,0] and i != 0:\n",
    "            return i-1"
   ]
  },
  {
   "cell_type": "code",
   "execution_count": 75,
   "id": "19862153",
   "metadata": {},
   "outputs": [],
   "source": [
    "x = np.linspace(-1, 3, 100) "
   ]
  },
  {
   "cell_type": "code",
   "execution_count": 76,
   "id": "fad4be59",
   "metadata": {},
   "outputs": [
    {
     "data": {
      "image/png": "[encoded data removed]",
      "text/plain": [
       "<Figure size 432x288 with 1 Axes>"
      ]
     },
     "metadata": {
      "needs_background": "light"
     },
     "output_type": "display_data"
    }
   ],
   "source": [
    "spline = [spline_eval( xi, coefs, puntosp ) for xi in x]  ##polinomio resultante que aproxima la funcion de gauss\n",
    "plt.plot(x, normal_distribution(x, 0, 1), color=\"black\", linestyle=\":\", label=\"exacta\") ### funcion exacta de gauss\n",
    "plt.plot(x, spline, color=\"red\",linestyle=\"-\", label=\"spline\") ## spline\n",
    "plt.legend()\n",
    "plt.show()"
   ]
  },
  {
   "cell_type": "code",
   "execution_count": null,
   "id": "72945a9c",
   "metadata": {},
   "outputs": [],
   "source": []
  }
 ],
 "metadata": {
  "kernelspec": {
   "display_name": "Python 3",
   "language": "python",
   "name": "python3"
  },
  "language_info": {
   "codemirror_mode": {
    "name": "ipython",
    "version": 3
   },
   "file_extension": ".py",
   "mimetype": "text/x-python",
   "name": "python",
   "nbconvert_exporter": "python",
   "pygments_lexer": "ipython3",
   "version": "3.8.8"
  }
 },
 "nbformat": 4,
 "nbformat_minor": 5
}
