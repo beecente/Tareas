{
 "cells": [
  {
   "cell_type": "code",
   "execution_count": 30,
   "id": "01ecf13d",
   "metadata": {},
   "outputs": [],
   "source": [
    "import numpy as np                  ## Importamos paquetes externos\n",
    "import matplotlib.pyplot as plt     ##"
   ]
  },
  {
   "cell_type": "code",
   "execution_count": 37,
   "id": "3b90a55f",
   "metadata": {},
   "outputs": [],
   "source": [
    "n = np.arange(0,4)      # numero de terminos de la serie\n",
    "approx = np.zeros(4)   # arreglo que contendra las aproximaciones\n",
    "x = 1 \n",
    "v_real = np.sin(1)*np.ones(4)     #vector que contiene el valor real del seno(1)"
   ]
  },
  {
   "cell_type": "code",
   "execution_count": 38,
   "id": "18864bc8",
   "metadata": {},
   "outputs": [],
   "source": [
    "def sin_taylor_2(m):      \n",
    "    \n",
    "    \"\"\"Esta definición entrega un arreglo para la aproximación en serie de Taylor\n",
    "    de la función sen(1) y depende de cuántos términos tenga el arreglo la variable\"\"\"\n",
    "    for i in range(1,len(m)+1):     \n",
    "        s = 0         #sumatoria\n",
    "        for j in range(i):\n",
    "            s += ((((-1)**j)*(x**((2*j)+1)))/(np.math.factorial((2*j)+1)))   ##ecuación de la serie de taylor para el seno\n",
    "            \n",
    "        approx[i-1] = s           ##guardamos los valores en el arreglo\n",
    "    \n",
    "    return approx       ##nos devuelve el arreglo con el resultado contenido en él"
   ]
  },
  {
   "cell_type": "code",
   "execution_count": 39,
   "id": "ee05db4f",
   "metadata": {},
   "outputs": [],
   "source": [
    "y = sin_taylor_2(n)  ##funcion y que contiene la sumatoria\n",
    "error = v_real - y    ##error de la aproximación"
   ]
  },
  {
   "cell_type": "code",
   "execution_count": 43,
   "id": "b9bee4fe",
   "metadata": {},
   "outputs": [
    {
     "name": "stderr",
     "output_type": "stream",
     "text": [
      "<ipython-input-43-ce98f4df6684>:4: MatplotlibDeprecationWarning: Adding an axes using the same arguments as a previous axes currently reuses the earlier instance.  In a future version, a new instance will always be created and returned.  Meanwhile, this warning can be suppressed, and the future behavior ensured, by passing a unique label to each axes instance.\n",
      "  ax = fig.add_subplot(1,1,1)\n"
     ]
    },
    {
     "data": {
      "image/png": "[encoded data removed]",
      "text/plain": [
       "<Figure size 432x288 with 1 Axes>"
      ]
     },
     "metadata": {
      "needs_background": "light"
     },
     "output_type": "display_data"
    }
   ],
   "source": [
    "#Creamos la figura para contener el gráfico\n",
    "fig = plt.figure()\n",
    "fig.add_subplot()\n",
    "ax = fig.add_subplot(1,1,1)\n",
    "\n",
    "ax.errorbar(n,y,yerr=error,color='orange',linestyle='none',label='Barra de error')  #barrar de error\n",
    "ax.plot(n,y,color='indigo',label='Aproximación para el $\\sin (1)$',linestyle=':')   #la función\n",
    "ax.plot(n,v_real,color='darkgreen',label='Valor real de $\\sin (1)$',linestyle='-')\n",
    "fig.suptitle('Valor aproximado vs n')   \n",
    "ax.set_xlabel('n')\n",
    "ax.set_ylabel('Aproximación de $\\sin (1)$')\n",
    "plt.legend()\n",
    "\n",
    "plt.show()"
   ]
  },
  {
   "cell_type": "code",
   "execution_count": null,
   "id": "9c01f2dd",
   "metadata": {},
   "outputs": [],
   "source": []
  }
 ],
 "metadata": {
  "kernelspec": {
   "display_name": "Python 3",
   "language": "python",
   "name": "python3"
  },
  "language_info": {
   "codemirror_mode": {
    "name": "ipython",
    "version": 3
   },
   "file_extension": ".py",
   "mimetype": "text/x-python",
   "name": "python",
   "nbconvert_exporter": "python",
   "pygments_lexer": "ipython3",
   "version": "3.8.8"
  }
 },
 "nbformat": 4,
 "nbformat_minor": 5
}
