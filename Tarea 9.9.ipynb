{
 "cells": [
  {
   "cell_type": "code",
   "execution_count": 16,
   "id": "f585cc52",
   "metadata": {},
   "outputs": [],
   "source": [
    "import numpy                ###importamos paquetes necesarios\n",
    "import matplotlib.pyplot as plt"
   ]
  },
  {
   "cell_type": "code",
   "execution_count": 17,
   "id": "8c8b4bc2",
   "metadata": {},
   "outputs": [],
   "source": [
    " class MaxIterations(Exception):\n",
    "    pass\n",
    "\n",
    "def adaptive(f, a, b, tol, N=100000):\n",
    "    \"\"\"\n",
    "    Metodo adaptativo para calcular integrales de funciones que varian mucho.\n",
    "    nos regresa el resultado de la integral.\n",
    "    \"\"\"\n",
    "    # Variables iniciales\n",
    "    approx = 0\n",
    "    i = 0\n",
    "    toli = [10*tol]\n",
    "    ai = [a]\n",
    "    hi = [(b - a)/2]\n",
    "    fai = [f(a)]\n",
    "    fbi = [f(b)]\n",
    "    fci = [f(a + hi[i])]\n",
    "    S0i = [hi[i]*(fai[i] + 4*fci[i] + fbi[i])/3]\n",
    "    Li = [1]\n",
    "    \n",
    "        \n",
    "    \n",
    "    while i >= 0:\n",
    "        \n",
    "        fd = f(ai[i] + hi[i]/2)\n",
    "        fe = f(ai[i] + 3*hi[i]/2)\n",
    "        S1 = hi[i]*(fai[i] + 4*fd + fci[i])/6\n",
    "        S2 = hi[i]*(fci[i] + 4*fe + fbi[i])/6\n",
    "        ai_prec = ai[i]\n",
    "        hi_prec = hi[i]\n",
    "        fai_prec = fai[i]\n",
    "        fbi_prec = fbi[i]\n",
    "        fci_prec = fci[i]\n",
    "        toli_prec = toli[i]\n",
    "        S0i_prec = S0i[i]\n",
    "        Li_prec = Li[i]\n",
    "        \n",
    "        i -= 1\n",
    "        if abs(S1 + S2 - S0i_prec) < toli_prec:\n",
    "            approx += S1 + S2\n",
    "        else:\n",
    "            if Li_prec >= N:\n",
    "                raise MaxIterations(\"Alcanzado máximo número de iteraciones.\")\n",
    "            \n",
    "            # Intervalo derecho\n",
    "            i += 1\n",
    "            if i >= len(ai): # A veces hay que ampliar la lista\n",
    "                ai.append(ai_prec + hi_prec)\n",
    "                fai.append(fci_prec)\n",
    "                fci.append(fe)\n",
    "                fbi.append(fbi_prec)\n",
    "                hi.append(hi_prec/2)\n",
    "                toli.append(toli_prec/2)\n",
    "                S0i.append(S2)\n",
    "                Li.append(Li_prec + 1)\n",
    "            else:\n",
    "                ai[i] = ai_prec + hi_prec\n",
    "                fai[i] = fci_prec\n",
    "                fci[i] = fe\n",
    "                fbi[i] = fbi_prec\n",
    "                hi[i] = hi_prec/2\n",
    "                toli[i] = toli_prec/2\n",
    "                S0i[i] = S2\n",
    "                Li[i] = Li_prec + 1\n",
    "                \n",
    "            # Intervalo izquierdo\n",
    "            i += 1\n",
    "            if i >= len(ai):\n",
    "                ai.append(ai_prec)\n",
    "                fai.append(fai_prec)\n",
    "                fci.append(fd)\n",
    "                fbi.append(fci_prec)\n",
    "                hi.append(hi[i-1])\n",
    "                toli.append(toli[i-1])\n",
    "                S0i.append(S1)\n",
    "                Li.append(Li[i-1])\n",
    "            else:\n",
    "                ai[i] = ai_prec\n",
    "                fai[i] = fai_prec\n",
    "                fci[i] = fd\n",
    "                fbi[i] = fci_prec\n",
    "                hi[i] = hi[i-1]\n",
    "                toli[i] = toli[i-1]\n",
    "                S0i[i] = S1\n",
    "                Li[i] = Li[i-1]\n",
    "                \n",
    "    return approx"
   ]
  },
  {
   "cell_type": "code",
   "execution_count": 18,
   "id": "7a3493f5",
   "metadata": {},
   "outputs": [],
   "source": [
    "def funcion(x):\n",
    "    \"\"\"función a integrar\"\"\"\n",
    "    return numpy.log(x)/numpy.sqrt((np.cos(x))**2 + numpy.tanh(x))"
   ]
  },
  {
   "cell_type": "code",
   "execution_count": 32,
   "id": "511d16bd",
   "metadata": {},
   "outputs": [],
   "source": [
    "x = np.linspace(0.1,1,100) ## rango que utilizaremos para x y la función"
   ]
  },
  {
   "cell_type": "code",
   "execution_count": 33,
   "id": "9443f3b1",
   "metadata": {},
   "outputs": [
    {
     "data": {
      "text/plain": [
       "[<matplotlib.lines.Line2D at 0x2861f779130>]"
      ]
     },
     "execution_count": 33,
     "metadata": {},
     "output_type": "execute_result"
    },
    {
     "data": {
      "image/png": "[encoded data removed]",
      "text/plain": [
       "<Figure size 432x288 with 1 Axes>"
      ]
     },
     "metadata": {
      "needs_background": "light"
     },
     "output_type": "display_data"
    }
   ],
   "source": [
    "plt.plot(x, funcion(x))   ##Graficamos la función en el dominio en el que integraremos"
   ]
  },
  {
   "cell_type": "code",
   "execution_count": 31,
   "id": "77d646b8",
   "metadata": {},
   "outputs": [
    {
     "data": {
      "text/plain": [
       "-0.6169301795157749"
      ]
     },
     "execution_count": 31,
     "metadata": {},
     "output_type": "execute_result"
    }
   ],
   "source": [
    "adaptive(funcion, 0.1, 1, 0.00000001) ##usamos la def de adaptive"
   ]
  },
  {
   "cell_type": "markdown",
   "id": "150676f4",
   "metadata": {},
   "source": [
    "#### El resultado de la integral usando la cuadratura adaptativa nos da un resultado bastante aproximado, estando el error alrededor del noveno decimal."
   ]
  },
  {
   "cell_type": "code",
   "execution_count": 22,
   "id": "7d71ad84",
   "metadata": {},
   "outputs": [],
   "source": [
    "from scipy import integrate ##importamos de scipy el comando de integración"
   ]
  },
  {
   "cell_type": "code",
   "execution_count": 30,
   "id": "f9d9d74a",
   "metadata": {},
   "outputs": [
    {
     "data": {
      "text/plain": [
       "(-0.6169301768805372, 4.699237926463449e-11)"
      ]
     },
     "execution_count": 30,
     "metadata": {},
     "output_type": "execute_result"
    }
   ],
   "source": [
    "integrate.quad(funcion,0.1,1) ## aplicamos el comando a la función, explicitando los rangos de integración"
   ]
  },
  {
   "cell_type": "code",
   "execution_count": null,
   "id": "2bfcc42d",
   "metadata": {},
   "outputs": [],
   "source": []
  }
 ],
 "metadata": {
  "kernelspec": {
   "display_name": "Python 3",
   "language": "python",
   "name": "python3"
  },
  "language_info": {
   "codemirror_mode": {
    "name": "ipython",
    "version": 3
   },
   "file_extension": ".py",
   "mimetype": "text/x-python",
   "name": "python",
   "nbconvert_exporter": "python",
   "pygments_lexer": "ipython3",
   "version": "3.8.8"
  }
 },
 "nbformat": 4,
 "nbformat_minor": 5
}
