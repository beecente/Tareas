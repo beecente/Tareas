{
 "cells": [
  {
   "cell_type": "code",
   "execution_count": 19,
   "id": "5c0f7f84",
   "metadata": {},
   "outputs": [],
   "source": [
    "import numpy as np\n",
    "import matplotlib.pyplot as plt"
   ]
  },
  {
   "cell_type": "code",
   "execution_count": 20,
   "id": "ff88835d",
   "metadata": {},
   "outputs": [],
   "source": [
    "def difer(puntos):\n",
    "    '''\n",
    "    Calcula los coeficientes del polinomio segun el grado deseado\n",
    "    '''\n",
    "    n = len(puntos) - 1\n",
    "    Fs = [np.zeros(n + 1)]\n",
    "    for i in range(n + 1):\n",
    "        Fs[0][i] = puntos[i][1]\n",
    "    for i in range(1, n + 1):\n",
    "        Fs.append(np.zeros(n + 1 - i))\n",
    "        for j in range(1, i + 1):\n",
    "            Fs[j][i-j] = (Fs[j-1][i-j+1] - Fs[j-1][i-j])/(puntos[i][0] - puntos[i-j][0])\n",
    "    \n",
    "    return [Fs[i][0] for i in range(n + 1)]"
   ]
  },
  {
   "cell_type": "code",
   "execution_count": 21,
   "id": "c5ff4b10",
   "metadata": {},
   "outputs": [],
   "source": [
    "puntos = np.array([[-10,-1], [-8,-1], [-6,-1], [-4,-1], [-2,-1], [0,0], [2, 1], [4,1], [6,1], [8,1], [10,1]]) ##puntos de tanh\n",
    "                                                                                                     ### calculados manualmente"
   ]
  },
  {
   "cell_type": "code",
   "execution_count": 22,
   "id": "5c415855",
   "metadata": {},
   "outputs": [],
   "source": [
    "coef = difer(puntos)"
   ]
  },
  {
   "cell_type": "code",
   "execution_count": 23,
   "id": "cf4c8a5c",
   "metadata": {},
   "outputs": [],
   "source": [
    "def poly(x, coefs):\n",
    "    '''\n",
    "    Nos arroja el polinomio final\n",
    "    '''\n",
    "    return sum(coef[n]*np.prod([(x - puntos[i,0]) for i in range(n)]) for n in range(len(coefs)))"
   ]
  },
  {
   "cell_type": "code",
   "execution_count": 24,
   "id": "9a61b872",
   "metadata": {},
   "outputs": [],
   "source": [
    "fun = np.tanh(x) ##funcion tangente hiperbolica, para compararla con el polinomio encontrado\n",
    "     "
   ]
  },
  {
   "cell_type": "code",
   "execution_count": 35,
   "id": "d18827c6",
   "metadata": {},
   "outputs": [
    {
     "data": {
      "text/plain": [
       "<matplotlib.legend.Legend at 0x18e15f32e80>"
      ]
     },
     "execution_count": 35,
     "metadata": {},
     "output_type": "execute_result"
    },
    {
     "data": {
      "image/png": "[encoded data removed]",
      "text/plain": [
       "<Figure size 432x288 with 1 Axes>"
      ]
     },
     "metadata": {
      "needs_background": "light"
     },
     "output_type": "display_data"
    }
   ],
   "source": [
    "x = np.linspace(-10, 10, 100)\n",
    "plt.plot(x, [poly(xi, coef) for xi in x], label='polinomio')\n",
    "plt.plot(x,fun, label='tangente hiperbolica')\n",
    "plt.legend()                                      "
   ]
  },
  {
   "cell_type": "markdown",
   "id": "d4a70e13",
   "metadata": {},
   "source": [
    "## Como observamos en la gráfica, el polinomio se acerca a la función original a medida que subamos el grado del polinomio. Este polinomio es de grado 11, tomé 11 puntos ya que no sabia como tomar 10 puntos equidistantes entre -10 y 10."
   ]
  },
  {
   "cell_type": "markdown",
   "id": "0f244f66",
   "metadata": {},
   "source": [
    "# Calificación: 6.8"
   ]
  },
  {
   "cell_type": "markdown",
   "id": "ae3f1f68",
   "metadata": {},
   "source": [
    "Está todo bien excepto la conclusión. El polinomio no aproxima muy bien la función, esto se debe a que los polinomios de alto orden tienden a oscilar mucho. Por eso luego introducimos métodos por intervalos como las splines."
   ]
  }
 ],
 "metadata": {
  "kernelspec": {
   "display_name": "Python 3",
   "language": "python",
   "name": "python3"
  },
  "language_info": {
   "codemirror_mode": {
    "name": "ipython",
    "version": 3
   },
   "file_extension": ".py",
   "mimetype": "text/x-python",
   "name": "python",
   "nbconvert_exporter": "python",
   "pygments_lexer": "ipython3",
   "version": "3.8.5"
  }
 },
 "nbformat": 4,
 "nbformat_minor": 5
}
