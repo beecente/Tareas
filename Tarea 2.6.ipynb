{
 "cells": [
  {
   "cell_type": "code",
   "execution_count": 2,
   "id": "ddb9506e",
   "metadata": {},
   "outputs": [],
   "source": [
    "import numpy as np  #importamos el paquete necesario"
   ]
  },
  {
   "cell_type": "code",
   "execution_count": 4,
   "id": "8dea92f0",
   "metadata": {},
   "outputs": [
    {
     "name": "stdout",
     "output_type": "stream",
     "text": [
      "6\n"
     ]
    }
   ],
   "source": [
    "c = sum(2**(5-np.arange(1,6))*np.array([0,0,1,1,0]))  #sumatoria que nos arrojará c.\n",
    "print(c)                 #muestra el resultado."
   ]
  },
  {
   "cell_type": "code",
   "execution_count": 6,
   "id": "923fc2e0",
   "metadata": {},
   "outputs": [
    {
     "name": "stdout",
     "output_type": "stream",
     "text": [
      "0.9267578125\n"
     ]
    }
   ],
   "source": [
    "f = sum((np.array([1,1,1,0,1,1,0,1,0,1])/2)**(np.arange(1,11)))  #calculamos la sumatoria para nuestra fracción.\n",
    "print(f)            #muestra el resultado."
   ]
  },
  {
   "cell_type": "code",
   "execution_count": 8,
   "id": "8bf05d04",
   "metadata": {},
   "outputs": [
    {
     "name": "stdout",
     "output_type": "stream",
     "text": [
      "-0.0037631988525390625\n"
     ]
    }
   ],
   "source": [
    "numero_resultante = -1*(2**(6-15))*(1+f)    #finalmente calculamos el numero que corresponde a nuestra representación.\n",
    "                           #^este 6 corresponde a c, no sé porque me arroja error cuando coloco \"c\", \n",
    "                            #tuve que poner el 6 manualmente.\n",
    "print(numero_resultante)   #resultado."
   ]
  },
  {
   "cell_type": "code",
   "execution_count": null,
   "id": "1a6598fd",
   "metadata": {},
   "outputs": [],
   "source": []
  }
 ],
 "metadata": {
  "kernelspec": {
   "display_name": "Python 3",
   "language": "python",
   "name": "python3"
  },
  "language_info": {
   "codemirror_mode": {
    "name": "ipython",
    "version": 3
   },
   "file_extension": ".py",
   "mimetype": "text/x-python",
   "name": "python",
   "nbconvert_exporter": "python",
   "pygments_lexer": "ipython3",
   "version": "3.8.8"
  }
 },
 "nbformat": 4,
 "nbformat_minor": 5
}
