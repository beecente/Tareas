{
 "cells": [
  {
   "cell_type": "code",
   "execution_count": 6,
   "id": "4272d304",
   "metadata": {},
   "outputs": [
    {
     "data": {
      "text/plain": [
       "0.2222222222222222"
      ]
     },
     "execution_count": 6,
     "metadata": {},
     "output_type": "execute_result"
    }
   ],
   "source": [
    "x = 1\n",
    "y = 2\n",
    "2*x/(3*(y+x))"
   ]
  },
  {
   "cell_type": "markdown",
   "id": "0b02307f",
   "metadata": {},
   "source": [
    "# Nota: 6.0"
   ]
  },
  {
   "cell_type": "markdown",
   "id": "c46452be",
   "metadata": {},
   "source": [
    "Como se dijo en clase y se escribió en el programa: 2.0 puntos corresponde a que el código esté bien comentado. Aquí no hay comentarios de ningún tipo. Como el código es sencillo y fácil de leer, te asigné 1.0 de esos 2.0 puntos."
   ]
  },
  {
   "cell_type": "code",
   "execution_count": null,
   "id": "b8318482",
   "metadata": {},
   "outputs": [],
   "source": []
  }
 ],
 "metadata": {
  "kernelspec": {
   "display_name": "Python 3",
   "language": "python",
   "name": "python3"
  },
  "language_info": {
   "codemirror_mode": {
    "name": "ipython",
    "version": 3
   },
   "file_extension": ".py",
   "mimetype": "text/x-python",
   "name": "python",
   "nbconvert_exporter": "python",
   "pygments_lexer": "ipython3",
   "version": "3.8.5"
  }
 },
 "nbformat": 4,
 "nbformat_minor": 5
}
